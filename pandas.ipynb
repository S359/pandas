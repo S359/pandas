{
 "cells": [
  {
   "cell_type": "markdown",
   "id": "a6fbf48f-b3d7-4065-ba46-40d0cca6f553",
   "metadata": {},
   "source": [
    "Pandas getting started "
   ]
  },
  {
   "cell_type": "code",
   "execution_count": 6,
   "id": "42cde74c-f8d7-4417-9f09-af54e5e33d97",
   "metadata": {},
   "outputs": [],
   "source": [
    "import pandas as pd"
   ]
  },
  {
   "cell_type": "code",
   "execution_count": 7,
   "id": "bc4bd670-3480-496f-af04-f68f4c098b62",
   "metadata": {},
   "outputs": [],
   "source": [
    "mydataset = {\n",
    "    'cars' : [\"BMW\" , \"Volvo\" , \"Ford\"],\n",
    "    'passings' : [\"2\" , \"3\" , \"4\"]\n",
    "}"
   ]
  },
  {
   "cell_type": "code",
   "execution_count": 8,
   "id": "3c6006b4-abd6-46ec-8026-f1f461755d55",
   "metadata": {},
   "outputs": [],
   "source": [
    "myvar = pd.DataFrame(mydataset)"
   ]
  },
  {
   "cell_type": "code",
   "execution_count": 9,
   "id": "b8f74785-79ce-4633-a93c-b5a555c7296b",
   "metadata": {},
   "outputs": [
    {
     "name": "stdout",
     "output_type": "stream",
     "text": [
      "    cars passings\n",
      "0    BMW        2\n",
      "1  Volvo        3\n",
      "2   Ford        4\n"
     ]
    }
   ],
   "source": [
    "print(myvar)"
   ]
  },
  {
   "cell_type": "markdown",
   "id": "0975bc2f-c3a7-4385-833a-c3979f87fc52",
   "metadata": {},
   "source": [
    "want to know version "
   ]
  },
  {
   "cell_type": "code",
   "execution_count": 11,
   "id": "ddc8937a-5abc-4807-be50-ea82c93e4fd8",
   "metadata": {},
   "outputs": [
    {
     "name": "stdout",
     "output_type": "stream",
     "text": [
      "2.1.4\n"
     ]
    }
   ],
   "source": [
    "print(pd.__version__)"
   ]
  },
  {
   "cell_type": "markdown",
   "id": "0a1cf3b7-ae43-435f-87b6-10931daf64d9",
   "metadata": {},
   "source": [
    "Pandas series "
   ]
  },
  {
   "cell_type": "code",
   "execution_count": 12,
   "id": "effc0c41-ad83-4055-b6a5-e59dd3da3b8f",
   "metadata": {},
   "outputs": [
    {
     "name": "stdout",
     "output_type": "stream",
     "text": [
      "0    1\n",
      "1    4\n",
      "2    7\n",
      "dtype: int64\n"
     ]
    }
   ],
   "source": [
    "a = [1,4,7]\n",
    "myvar = pd.Series(a)\n",
    "print(myvar)"
   ]
  },
  {
   "cell_type": "code",
   "execution_count": 13,
   "id": "1b50038e-b2fc-4610-a114-07a8aef40bce",
   "metadata": {},
   "outputs": [
    {
     "name": "stdout",
     "output_type": "stream",
     "text": [
      "4\n"
     ]
    }
   ],
   "source": [
    "print(myvar[1])"
   ]
  },
  {
   "cell_type": "markdown",
   "id": "8f2390d2-96c2-4e39-9ce3-8a5d6b0cda6b",
   "metadata": {},
   "source": [
    "index labeling "
   ]
  },
  {
   "cell_type": "code",
   "execution_count": 14,
   "id": "b631a70f-ee0b-47aa-ba19-6535ec89188b",
   "metadata": {},
   "outputs": [
    {
     "name": "stdout",
     "output_type": "stream",
     "text": [
      "x    sandhya\n",
      "y        sai\n",
      "z      setty\n",
      "dtype: object\n"
     ]
    }
   ],
   "source": [
    "a=[\"sandhya\" ,\"sai\" ,\"setty\"]\n",
    "myvar = pd.Series(a,index=[\"x\",\"y\",\"z\"])\n",
    "print(myvar)\n"
   ]
  },
  {
   "cell_type": "markdown",
   "id": "40ba852f-2955-423e-bb6a-3a405a01fb03",
   "metadata": {},
   "source": [
    "pandas dataframes"
   ]
  },
  {
   "cell_type": "code",
   "execution_count": 16,
   "id": "dfaed68d-8fa4-40ba-ae15-d31e089f949d",
   "metadata": {},
   "outputs": [],
   "source": [
    "df = pd.read_csv(\"/Users/sandhya/Library/Containers/com.microsoft.Excel/Data/Downloads/archive (1)/BooksDataset.csv\")"
   ]
  },
  {
   "cell_type": "code",
   "execution_count": 17,
   "id": "2c6652e4-cf46-4bdd-a79f-3074df4536b1",
   "metadata": {},
   "outputs": [
    {
     "data": {
      "text/html": [
       "<div>\n",
       "<style scoped>\n",
       "    .dataframe tbody tr th:only-of-type {\n",
       "        vertical-align: middle;\n",
       "    }\n",
       "\n",
       "    .dataframe tbody tr th {\n",
       "        vertical-align: top;\n",
       "    }\n",
       "\n",
       "    .dataframe thead th {\n",
       "        text-align: right;\n",
       "    }\n",
       "</style>\n",
       "<table border=\"1\" class=\"dataframe\">\n",
       "  <thead>\n",
       "    <tr style=\"text-align: right;\">\n",
       "      <th></th>\n",
       "      <th>Title</th>\n",
       "      <th>Authors</th>\n",
       "      <th>Description</th>\n",
       "      <th>Category</th>\n",
       "      <th>Publisher</th>\n",
       "      <th>Publish Date</th>\n",
       "      <th>Price</th>\n",
       "    </tr>\n",
       "  </thead>\n",
       "  <tbody>\n",
       "    <tr>\n",
       "      <th>0</th>\n",
       "      <td>Goat Brothers</td>\n",
       "      <td>By Colton, Larry</td>\n",
       "      <td>NaN</td>\n",
       "      <td>History , General</td>\n",
       "      <td>Doubleday</td>\n",
       "      <td>Friday, January 1, 1993</td>\n",
       "      <td>Price Starting at $8.79</td>\n",
       "    </tr>\n",
       "    <tr>\n",
       "      <th>1</th>\n",
       "      <td>The Missing Person</td>\n",
       "      <td>By Grumbach, Doris</td>\n",
       "      <td>NaN</td>\n",
       "      <td>Fiction , General</td>\n",
       "      <td>Putnam Pub Group</td>\n",
       "      <td>Sunday, March 1, 1981</td>\n",
       "      <td>Price Starting at $4.99</td>\n",
       "    </tr>\n",
       "    <tr>\n",
       "      <th>2</th>\n",
       "      <td>Don't Eat Your Heart Out Cookbook</td>\n",
       "      <td>By Piscatella, Joseph C.</td>\n",
       "      <td>NaN</td>\n",
       "      <td>Cooking , Reference</td>\n",
       "      <td>Workman Pub Co</td>\n",
       "      <td>Thursday, September 1, 1983</td>\n",
       "      <td>Price Starting at $4.99</td>\n",
       "    </tr>\n",
       "    <tr>\n",
       "      <th>3</th>\n",
       "      <td>When Your Corporate Umbrella Begins to Leak: A...</td>\n",
       "      <td>By Davis, Paul D.</td>\n",
       "      <td>NaN</td>\n",
       "      <td>NaN</td>\n",
       "      <td>Natl Pr Books</td>\n",
       "      <td>Monday, April 1, 1991</td>\n",
       "      <td>Price Starting at $4.99</td>\n",
       "    </tr>\n",
       "    <tr>\n",
       "      <th>4</th>\n",
       "      <td>Amy Spangler's Breastfeeding : A Parent's Guide</td>\n",
       "      <td>By Spangler, Amy</td>\n",
       "      <td>NaN</td>\n",
       "      <td>NaN</td>\n",
       "      <td>Amy Spangler</td>\n",
       "      <td>Saturday, February 1, 1997</td>\n",
       "      <td>Price Starting at $5.32</td>\n",
       "    </tr>\n",
       "    <tr>\n",
       "      <th>5</th>\n",
       "      <td>The Foundation of Leadership: Enduring Princip...</td>\n",
       "      <td>By Short, Bo</td>\n",
       "      <td>NaN</td>\n",
       "      <td>NaN</td>\n",
       "      <td>Excalibur Press</td>\n",
       "      <td>Wednesday, January 1, 1997</td>\n",
       "      <td>Price Starting at $6.06</td>\n",
       "    </tr>\n",
       "    <tr>\n",
       "      <th>6</th>\n",
       "      <td>Chicken Soup for the Soul: 101 Stories to Open...</td>\n",
       "      <td>By Canfield, Jack (COM) and Hansen, Mark Victo...</td>\n",
       "      <td>NaN</td>\n",
       "      <td>Self-help , Personal Growth , Self-Esteem</td>\n",
       "      <td>Health Communications Inc</td>\n",
       "      <td>Saturday, May 1, 1993</td>\n",
       "      <td>Price Starting at $4.99</td>\n",
       "    </tr>\n",
       "    <tr>\n",
       "      <th>7</th>\n",
       "      <td>Journey Through Heartsongs</td>\n",
       "      <td>By Stepanek, Mattie J. T.</td>\n",
       "      <td>Collects poems written by the eleven-year-old ...</td>\n",
       "      <td>Poetry , General</td>\n",
       "      <td>VSP Books</td>\n",
       "      <td>Saturday, September 1, 2001</td>\n",
       "      <td>Price Starting at $19.96</td>\n",
       "    </tr>\n",
       "    <tr>\n",
       "      <th>8</th>\n",
       "      <td>In Search of Melancholy Baby</td>\n",
       "      <td>By Aksyonov, Vassily, Heim, Michael Henry, and...</td>\n",
       "      <td>The Russian author offers an affectionate chro...</td>\n",
       "      <td>Biography &amp; Autobiography , General</td>\n",
       "      <td>Random House</td>\n",
       "      <td>Monday, June 1, 1987</td>\n",
       "      <td>Price Starting at $4.99</td>\n",
       "    </tr>\n",
       "    <tr>\n",
       "      <th>9</th>\n",
       "      <td>Christmas Cookies</td>\n",
       "      <td>By Eakin, Katherine M. and Deaman, Joane (EDT)</td>\n",
       "      <td>NaN</td>\n",
       "      <td>Cooking , General</td>\n",
       "      <td>Oxmoor House</td>\n",
       "      <td>Sunday, June 1, 1986</td>\n",
       "      <td>Price Starting at $12.98</td>\n",
       "    </tr>\n",
       "  </tbody>\n",
       "</table>\n",
       "</div>"
      ],
      "text/plain": [
       "                                               Title  \\\n",
       "0                                      Goat Brothers   \n",
       "1                                 The Missing Person   \n",
       "2                  Don't Eat Your Heart Out Cookbook   \n",
       "3  When Your Corporate Umbrella Begins to Leak: A...   \n",
       "4    Amy Spangler's Breastfeeding : A Parent's Guide   \n",
       "5  The Foundation of Leadership: Enduring Princip...   \n",
       "6  Chicken Soup for the Soul: 101 Stories to Open...   \n",
       "7                         Journey Through Heartsongs   \n",
       "8                       In Search of Melancholy Baby   \n",
       "9                                  Christmas Cookies   \n",
       "\n",
       "                                             Authors  \\\n",
       "0                                   By Colton, Larry   \n",
       "1                                 By Grumbach, Doris   \n",
       "2                           By Piscatella, Joseph C.   \n",
       "3                                  By Davis, Paul D.   \n",
       "4                                   By Spangler, Amy   \n",
       "5                                       By Short, Bo   \n",
       "6  By Canfield, Jack (COM) and Hansen, Mark Victo...   \n",
       "7                          By Stepanek, Mattie J. T.   \n",
       "8  By Aksyonov, Vassily, Heim, Michael Henry, and...   \n",
       "9     By Eakin, Katherine M. and Deaman, Joane (EDT)   \n",
       "\n",
       "                                         Description  \\\n",
       "0                                                NaN   \n",
       "1                                                NaN   \n",
       "2                                                NaN   \n",
       "3                                                NaN   \n",
       "4                                                NaN   \n",
       "5                                                NaN   \n",
       "6                                                NaN   \n",
       "7  Collects poems written by the eleven-year-old ...   \n",
       "8  The Russian author offers an affectionate chro...   \n",
       "9                                                NaN   \n",
       "\n",
       "                                     Category                  Publisher  \\\n",
       "0                           History , General                  Doubleday   \n",
       "1                           Fiction , General           Putnam Pub Group   \n",
       "2                         Cooking , Reference             Workman Pub Co   \n",
       "3                                         NaN              Natl Pr Books   \n",
       "4                                         NaN               Amy Spangler   \n",
       "5                                         NaN            Excalibur Press   \n",
       "6   Self-help , Personal Growth , Self-Esteem  Health Communications Inc   \n",
       "7                            Poetry , General                  VSP Books   \n",
       "8         Biography & Autobiography , General               Random House   \n",
       "9                           Cooking , General               Oxmoor House   \n",
       "\n",
       "                  Publish Date                     Price  \n",
       "0      Friday, January 1, 1993   Price Starting at $8.79  \n",
       "1        Sunday, March 1, 1981   Price Starting at $4.99  \n",
       "2  Thursday, September 1, 1983   Price Starting at $4.99  \n",
       "3        Monday, April 1, 1991   Price Starting at $4.99  \n",
       "4   Saturday, February 1, 1997   Price Starting at $5.32  \n",
       "5   Wednesday, January 1, 1997   Price Starting at $6.06  \n",
       "6        Saturday, May 1, 1993   Price Starting at $4.99  \n",
       "7  Saturday, September 1, 2001  Price Starting at $19.96  \n",
       "8         Monday, June 1, 1987   Price Starting at $4.99  \n",
       "9         Sunday, June 1, 1986  Price Starting at $12.98  "
      ]
     },
     "execution_count": 17,
     "metadata": {},
     "output_type": "execute_result"
    }
   ],
   "source": [
    "df.head(10)"
   ]
  },
  {
   "cell_type": "code",
   "execution_count": 18,
   "id": "fe240a9c-cf73-4d08-a7d5-53ca214ac5bf",
   "metadata": {},
   "outputs": [
    {
     "name": "stdout",
     "output_type": "stream",
     "text": [
      "<class 'pandas.core.frame.DataFrame'>\n",
      "RangeIndex: 103082 entries, 0 to 103081\n",
      "Data columns (total 7 columns):\n",
      " #   Column        Non-Null Count   Dtype \n",
      "---  ------        --------------   ----- \n",
      " 0   Title         103082 non-null  object\n",
      " 1   Authors       103082 non-null  object\n",
      " 2   Description   70213 non-null   object\n",
      " 3   Category      76912 non-null   object\n",
      " 4   Publisher     103074 non-null  object\n",
      " 5   Publish Date  103082 non-null  object\n",
      " 6   Price         103082 non-null  object\n",
      "dtypes: object(7)\n",
      "memory usage: 5.5+ MB\n"
     ]
    }
   ],
   "source": [
    "df.info()"
   ]
  },
  {
   "cell_type": "code",
   "execution_count": 20,
   "id": "1487d8cb-3347-4345-8a96-c18cc89639f6",
   "metadata": {},
   "outputs": [
    {
     "name": "stderr",
     "output_type": "stream",
     "text": [
      "IOPub data rate exceeded.\n",
      "The Jupyter server will temporarily stop sending output\n",
      "to the client in order to avoid crashing it.\n",
      "To change this limit, set the config variable\n",
      "`--ServerApp.iopub_data_rate_limit`.\n",
      "\n",
      "Current values:\n",
      "ServerApp.iopub_data_rate_limit=1000000.0 (bytes/sec)\n",
      "ServerApp.rate_limit_window=3.0 (secs)\n",
      "\n",
      "IOStream.flush timed out\n",
      "IOStream.flush timed out\n"
     ]
    }
   ],
   "source": [
    "new_df = df.dropna()\n",
    "\n",
    "print(new_df.to_string())"
   ]
  },
  {
   "cell_type": "markdown",
   "id": "287499c1-8dfc-4401-a71e-99ddec84d2a6",
   "metadata": {},
   "source": [
    "pandas correlation "
   ]
  },
  {
   "cell_type": "code",
   "execution_count": 22,
   "id": "d8f52e69-1ed7-4d44-a18e-4078247896f7",
   "metadata": {},
   "outputs": [
    {
     "ename": "ValueError",
     "evalue": "could not convert string to float: 'Goat Brothers'",
     "output_type": "error",
     "traceback": [
      "\u001b[0;31m---------------------------------------------------------------------------\u001b[0m",
      "\u001b[0;31mValueError\u001b[0m                                Traceback (most recent call last)",
      "Cell \u001b[0;32mIn[22], line 1\u001b[0m\n\u001b[0;32m----> 1\u001b[0m df\u001b[38;5;241m.\u001b[39mcorr()\n",
      "File \u001b[0;32m/opt/anaconda3/lib/python3.11/site-packages/pandas/core/frame.py:10704\u001b[0m, in \u001b[0;36mDataFrame.corr\u001b[0;34m(self, method, min_periods, numeric_only)\u001b[0m\n\u001b[1;32m  10702\u001b[0m cols \u001b[38;5;241m=\u001b[39m data\u001b[38;5;241m.\u001b[39mcolumns\n\u001b[1;32m  10703\u001b[0m idx \u001b[38;5;241m=\u001b[39m cols\u001b[38;5;241m.\u001b[39mcopy()\n\u001b[0;32m> 10704\u001b[0m mat \u001b[38;5;241m=\u001b[39m data\u001b[38;5;241m.\u001b[39mto_numpy(dtype\u001b[38;5;241m=\u001b[39m\u001b[38;5;28mfloat\u001b[39m, na_value\u001b[38;5;241m=\u001b[39mnp\u001b[38;5;241m.\u001b[39mnan, copy\u001b[38;5;241m=\u001b[39m\u001b[38;5;28;01mFalse\u001b[39;00m)\n\u001b[1;32m  10706\u001b[0m \u001b[38;5;28;01mif\u001b[39;00m method \u001b[38;5;241m==\u001b[39m \u001b[38;5;124m\"\u001b[39m\u001b[38;5;124mpearson\u001b[39m\u001b[38;5;124m\"\u001b[39m:\n\u001b[1;32m  10707\u001b[0m     correl \u001b[38;5;241m=\u001b[39m libalgos\u001b[38;5;241m.\u001b[39mnancorr(mat, minp\u001b[38;5;241m=\u001b[39mmin_periods)\n",
      "File \u001b[0;32m/opt/anaconda3/lib/python3.11/site-packages/pandas/core/frame.py:1889\u001b[0m, in \u001b[0;36mDataFrame.to_numpy\u001b[0;34m(self, dtype, copy, na_value)\u001b[0m\n\u001b[1;32m   1887\u001b[0m \u001b[38;5;28;01mif\u001b[39;00m dtype \u001b[38;5;129;01mis\u001b[39;00m \u001b[38;5;129;01mnot\u001b[39;00m \u001b[38;5;28;01mNone\u001b[39;00m:\n\u001b[1;32m   1888\u001b[0m     dtype \u001b[38;5;241m=\u001b[39m np\u001b[38;5;241m.\u001b[39mdtype(dtype)\n\u001b[0;32m-> 1889\u001b[0m result \u001b[38;5;241m=\u001b[39m \u001b[38;5;28mself\u001b[39m\u001b[38;5;241m.\u001b[39m_mgr\u001b[38;5;241m.\u001b[39mas_array(dtype\u001b[38;5;241m=\u001b[39mdtype, copy\u001b[38;5;241m=\u001b[39mcopy, na_value\u001b[38;5;241m=\u001b[39mna_value)\n\u001b[1;32m   1890\u001b[0m \u001b[38;5;28;01mif\u001b[39;00m result\u001b[38;5;241m.\u001b[39mdtype \u001b[38;5;129;01mis\u001b[39;00m \u001b[38;5;129;01mnot\u001b[39;00m dtype:\n\u001b[1;32m   1891\u001b[0m     result \u001b[38;5;241m=\u001b[39m np\u001b[38;5;241m.\u001b[39marray(result, dtype\u001b[38;5;241m=\u001b[39mdtype, copy\u001b[38;5;241m=\u001b[39m\u001b[38;5;28;01mFalse\u001b[39;00m)\n",
      "File \u001b[0;32m/opt/anaconda3/lib/python3.11/site-packages/pandas/core/internals/managers.py:1650\u001b[0m, in \u001b[0;36mBlockManager.as_array\u001b[0;34m(self, dtype, copy, na_value)\u001b[0m\n\u001b[1;32m   1644\u001b[0m     arr \u001b[38;5;241m=\u001b[39m blk\u001b[38;5;241m.\u001b[39mvalues\u001b[38;5;241m.\u001b[39mto_numpy(  \u001b[38;5;66;03m# type: ignore[union-attr]\u001b[39;00m\n\u001b[1;32m   1645\u001b[0m         dtype\u001b[38;5;241m=\u001b[39mdtype,\n\u001b[1;32m   1646\u001b[0m         na_value\u001b[38;5;241m=\u001b[39mna_value,\n\u001b[1;32m   1647\u001b[0m         copy\u001b[38;5;241m=\u001b[39mcopy,\n\u001b[1;32m   1648\u001b[0m     )\u001b[38;5;241m.\u001b[39mreshape(blk\u001b[38;5;241m.\u001b[39mshape)\n\u001b[1;32m   1649\u001b[0m \u001b[38;5;28;01melse\u001b[39;00m:\n\u001b[0;32m-> 1650\u001b[0m     arr \u001b[38;5;241m=\u001b[39m np\u001b[38;5;241m.\u001b[39marray(blk\u001b[38;5;241m.\u001b[39mvalues, dtype\u001b[38;5;241m=\u001b[39mdtype, copy\u001b[38;5;241m=\u001b[39mcopy)\n\u001b[1;32m   1652\u001b[0m \u001b[38;5;28;01mif\u001b[39;00m using_copy_on_write() \u001b[38;5;129;01mand\u001b[39;00m \u001b[38;5;129;01mnot\u001b[39;00m copy:\n\u001b[1;32m   1653\u001b[0m     arr \u001b[38;5;241m=\u001b[39m arr\u001b[38;5;241m.\u001b[39mview()\n",
      "\u001b[0;31mValueError\u001b[0m: could not convert string to float: 'Goat Brothers'"
     ]
    }
   ],
   "source": [
    "df.corr()"
   ]
  },
  {
   "cell_type": "code",
   "execution_count": 23,
   "id": "36d506a2-4ec4-411b-a3eb-01bb4b7792b1",
   "metadata": {},
   "outputs": [
    {
     "ename": "TypeError",
     "evalue": "no numeric data to plot",
     "output_type": "error",
     "traceback": [
      "\u001b[0;31m---------------------------------------------------------------------------\u001b[0m",
      "\u001b[0;31mTypeError\u001b[0m                                 Traceback (most recent call last)",
      "Cell \u001b[0;32mIn[23], line 1\u001b[0m\n\u001b[0;32m----> 1\u001b[0m df\u001b[38;5;241m.\u001b[39mplot()\n",
      "File \u001b[0;32m/opt/anaconda3/lib/python3.11/site-packages/pandas/plotting/_core.py:1031\u001b[0m, in \u001b[0;36mPlotAccessor.__call__\u001b[0;34m(self, *args, **kwargs)\u001b[0m\n\u001b[1;32m   1028\u001b[0m             label_name \u001b[38;5;241m=\u001b[39m label_kw \u001b[38;5;129;01mor\u001b[39;00m data\u001b[38;5;241m.\u001b[39mcolumns\n\u001b[1;32m   1029\u001b[0m             data\u001b[38;5;241m.\u001b[39mcolumns \u001b[38;5;241m=\u001b[39m label_name\n\u001b[0;32m-> 1031\u001b[0m \u001b[38;5;28;01mreturn\u001b[39;00m plot_backend\u001b[38;5;241m.\u001b[39mplot(data, kind\u001b[38;5;241m=\u001b[39mkind, \u001b[38;5;241m*\u001b[39m\u001b[38;5;241m*\u001b[39mkwargs)\n",
      "File \u001b[0;32m/opt/anaconda3/lib/python3.11/site-packages/pandas/plotting/_matplotlib/__init__.py:71\u001b[0m, in \u001b[0;36mplot\u001b[0;34m(data, kind, **kwargs)\u001b[0m\n\u001b[1;32m     69\u001b[0m         kwargs[\u001b[38;5;124m\"\u001b[39m\u001b[38;5;124max\u001b[39m\u001b[38;5;124m\"\u001b[39m] \u001b[38;5;241m=\u001b[39m \u001b[38;5;28mgetattr\u001b[39m(ax, \u001b[38;5;124m\"\u001b[39m\u001b[38;5;124mleft_ax\u001b[39m\u001b[38;5;124m\"\u001b[39m, ax)\n\u001b[1;32m     70\u001b[0m plot_obj \u001b[38;5;241m=\u001b[39m PLOT_CLASSES[kind](data, \u001b[38;5;241m*\u001b[39m\u001b[38;5;241m*\u001b[39mkwargs)\n\u001b[0;32m---> 71\u001b[0m plot_obj\u001b[38;5;241m.\u001b[39mgenerate()\n\u001b[1;32m     72\u001b[0m plot_obj\u001b[38;5;241m.\u001b[39mdraw()\n\u001b[1;32m     73\u001b[0m \u001b[38;5;28;01mreturn\u001b[39;00m plot_obj\u001b[38;5;241m.\u001b[39mresult\n",
      "File \u001b[0;32m/opt/anaconda3/lib/python3.11/site-packages/pandas/plotting/_matplotlib/core.py:451\u001b[0m, in \u001b[0;36mMPLPlot.generate\u001b[0;34m(self)\u001b[0m\n\u001b[1;32m    449\u001b[0m \u001b[38;5;28;01mdef\u001b[39;00m \u001b[38;5;21mgenerate\u001b[39m(\u001b[38;5;28mself\u001b[39m) \u001b[38;5;241m-\u001b[39m\u001b[38;5;241m>\u001b[39m \u001b[38;5;28;01mNone\u001b[39;00m:\n\u001b[1;32m    450\u001b[0m     \u001b[38;5;28mself\u001b[39m\u001b[38;5;241m.\u001b[39m_args_adjust()\n\u001b[0;32m--> 451\u001b[0m     \u001b[38;5;28mself\u001b[39m\u001b[38;5;241m.\u001b[39m_compute_plot_data()\n\u001b[1;32m    452\u001b[0m     \u001b[38;5;28mself\u001b[39m\u001b[38;5;241m.\u001b[39m_setup_subplots()\n\u001b[1;32m    453\u001b[0m     \u001b[38;5;28mself\u001b[39m\u001b[38;5;241m.\u001b[39m_make_plot()\n",
      "File \u001b[0;32m/opt/anaconda3/lib/python3.11/site-packages/pandas/plotting/_matplotlib/core.py:636\u001b[0m, in \u001b[0;36mMPLPlot._compute_plot_data\u001b[0;34m(self)\u001b[0m\n\u001b[1;32m    634\u001b[0m \u001b[38;5;66;03m# no non-numeric frames or series allowed\u001b[39;00m\n\u001b[1;32m    635\u001b[0m \u001b[38;5;28;01mif\u001b[39;00m is_empty:\n\u001b[0;32m--> 636\u001b[0m     \u001b[38;5;28;01mraise\u001b[39;00m \u001b[38;5;167;01mTypeError\u001b[39;00m(\u001b[38;5;124m\"\u001b[39m\u001b[38;5;124mno numeric data to plot\u001b[39m\u001b[38;5;124m\"\u001b[39m)\n\u001b[1;32m    638\u001b[0m \u001b[38;5;28mself\u001b[39m\u001b[38;5;241m.\u001b[39mdata \u001b[38;5;241m=\u001b[39m numeric_data\u001b[38;5;241m.\u001b[39mapply(\u001b[38;5;28mself\u001b[39m\u001b[38;5;241m.\u001b[39m_convert_to_ndarray)\n",
      "\u001b[0;31mTypeError\u001b[0m: no numeric data to plot"
     ]
    }
   ],
   "source": [
    "df.plot()"
   ]
  },
  {
   "cell_type": "code",
   "execution_count": null,
   "id": "b05e8559-352e-4879-8a4f-0b4bad4eecd7",
   "metadata": {},
   "outputs": [],
   "source": []
  }
 ],
 "metadata": {
  "kernelspec": {
   "display_name": "Python 3 (ipykernel)",
   "language": "python",
   "name": "python3"
  },
  "language_info": {
   "codemirror_mode": {
    "name": "ipython",
    "version": 3
   },
   "file_extension": ".py",
   "mimetype": "text/x-python",
   "name": "python",
   "nbconvert_exporter": "python",
   "pygments_lexer": "ipython3",
   "version": "3.11.7"
  }
 },
 "nbformat": 4,
 "nbformat_minor": 5
}
